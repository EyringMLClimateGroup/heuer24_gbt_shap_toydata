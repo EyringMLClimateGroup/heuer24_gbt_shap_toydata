{
 "cells": [
  {
   "cell_type": "markdown",
   "metadata": {},
   "source": [
    "# Demonstration of applying weighted shap value technique to decision tree based ML models"
   ]
  },
  {
   "cell_type": "code",
   "execution_count": 1,
   "metadata": {
    "_cell_guid": "b1076dfc-b9ad-4769-8c92-a6c4dae69d19",
    "_uuid": "8f2839f25d086af736a60e9eeb907d3b93b6e0e5",
    "tags": []
   },
   "outputs": [],
   "source": [
    "# Importing Required Libraries\n",
    "import numpy as np\n",
    "import numpy.random as npr\n",
    "from sklearn.ensemble import RandomForestRegressor, HistGradientBoostingRegressor\n",
    "from sklearn.multioutput import MultiOutputRegressor\n",
    "from sklearn.metrics import r2_score\n",
    "import matplotlib.pyplot as plt"
   ]
  },
  {
   "cell_type": "markdown",
   "metadata": {},
   "source": [
    "## Create the coefficients for the (non)linear model underlying the data generation process"
   ]
  },
  {
   "cell_type": "code",
   "execution_count": 2,
   "metadata": {
    "tags": []
   },
   "outputs": [
    {
     "data": {
      "image/png": "[encoded data removed]",
      "text/plain": [
       "<Figure size 640x480 with 1 Axes>"
      ]
     },
     "metadata": {},
     "output_type": "display_data"
    }
   ],
   "source": [
    "npr.seed(10)\n",
    "X = npr.multivariate_normal(np.zeros(10), np.eye(10), size=int(1e5))\n",
    "\n",
    "# Method 1\n",
    "scatter = npr.multivariate_normal(mean=np.zeros(2), cov=[[1,0.6],[0.6,1]], size=10000)\n",
    "\n",
    "# Optionally, plot scatter on which method 1 is based\n",
    "# plt.figure()\n",
    "# plt.scatter(scatter[:,0], scatter[:,1], s=1)\n",
    "\n",
    "hist = np.histogram2d(scatter[:,0], scatter[:,1], range=([-2,2],[-2,2]), bins=10)\n",
    "coefs = hist[0]\n",
    "\n",
    "# Method 2\n",
    "# coefs = sum([np.eye(10, k=k)*(10-abs(k)) for k in range(-10,10)])\n",
    "\n",
    "plt.figure()\n",
    "plt.imshow(coefs)\n",
    "plt.title('Coefficients')\n",
    "\n",
    "plt.show()"
   ]
  },
  {
   "cell_type": "markdown",
   "metadata": {},
   "source": [
    "## Apply linear transform and optionally nonlinear one"
   ]
  },
  {
   "cell_type": "code",
   "execution_count": 3,
   "metadata": {
    "tags": []
   },
   "outputs": [
    {
     "data": {
      "text/plain": [
       "(100000, 10)"
      ]
     },
     "execution_count": 3,
     "metadata": {},
     "output_type": "execute_result"
    }
   ],
   "source": [
    "# Apply linear and optionally a non-linear transform to x data\n",
    "\n",
    "# linear transform\n",
    "Y = X @ coefs\n",
    "\n",
    "# optionally, add non-linear transform\n",
    "Y = np.exp(Y/Y.max())\n",
    "# Y = Y**3\n",
    "\n",
    "Y.shape"
   ]
  },
  {
   "cell_type": "markdown",
   "metadata": {},
   "source": [
    "## Define and fit ML model: GBT or RF"
   ]
  },
  {
   "cell_type": "code",
   "execution_count": 4,
   "metadata": {
    "tags": []
   },
   "outputs": [
    {
     "name": "stdout",
     "output_type": "stream",
     "text": [
      "R2 score:  0.9918578253100157\n"
     ]
    }
   ],
   "source": [
    "# For GBT\n",
    "model = MultiOutputRegressor(HistGradientBoostingRegressor(), n_jobs=4)\n",
    "# For RF\n",
    "# model = RandomForestRegressor()\n",
    "\n",
    "model.fit(X, Y)\n",
    "\n",
    "print('R2 score: ', r2_score(Y, model.predict(X)))"
   ]
  },
  {
   "cell_type": "markdown",
   "metadata": {},
   "source": [
    "## Calculate SHAP values"
   ]
  },
  {
   "cell_type": "code",
   "execution_count": 5,
   "metadata": {
    "tags": []
   },
   "outputs": [],
   "source": [
    "from shap import TreeExplainer, KernelExplainer, Explainer\n",
    "from convection_param.shap_values.ShapMultiOutputRegressor import MultiOutputTreeExplainer, build_tree_explainer\n",
    "\n",
    "# This class can be used for MultiOutputRegressors\n",
    "class MultiOutputTreeExplainer(Explainer):\n",
    "    \"\"\" Abstraction of Explainer for MultiOutputRegressor model\n",
    "    \"\"\"\n",
    "    def __init__(self, model, *args, **kwargs):\n",
    "        assert isinstance(model, MultiOutputRegressor)\n",
    "        self.explainers = []\n",
    "        self.expected_value = []\n",
    "        for estimator in model.estimators_:\n",
    "            explainer = TreeExplainer(estimator, *args, **kwargs)\n",
    "            self.explainers.append(explainer)\n",
    "            self.expected_value.append(explainer.expected_value)\n",
    "\n",
    "    def shap_values(self, *args, **kwargs):\n",
    "        shap_values = []\n",
    "        for explainer in self.explainers:\n",
    "            shap_values.append(explainer.shap_values(*args, **kwargs))\n",
    "        return np.array(shap_values)"
   ]
  },
  {
   "cell_type": "code",
   "execution_count": 6,
   "metadata": {
    "tags": []
   },
   "outputs": [
    {
     "name": "stdout",
     "output_type": "stream",
     "text": [
      "CPU times: user 1.8 s, sys: 4.02 ms, total: 1.8 s\n",
      "Wall time: 1.82 s\n"
     ]
    },
    {
     "data": {
      "text/plain": [
       "((10, 300, 10), (300, 10))"
      ]
     },
     "execution_count": 6,
     "metadata": {},
     "output_type": "execute_result"
    }
   ],
   "source": [
    "%%time\n",
    "# Calculate shap values for a subset of 300 samples\n",
    "npr.seed(745)\n",
    "random_idx = npr.choice(X.shape[0], size=300, replace=False)\n",
    "X_explain = X[random_idx]\n",
    "\n",
    "# For GBT\n",
    "explainer = MultiOutputTreeExplainer(model)\n",
    "# For RF\n",
    "# explainer = TreeExplainer(model)\n",
    "\n",
    "shap_values = np.array(explainer.shap_values(X_explain))\n",
    "shap_values.shape, X_explain.shape"
   ]
  },
  {
   "cell_type": "markdown",
   "metadata": {},
   "source": [
    "## Apply weighted averaging"
   ]
  },
  {
   "cell_type": "code",
   "execution_count": 7,
   "metadata": {
    "tags": []
   },
   "outputs": [
    {
     "data": {
      "text/plain": [
       "(10, 10)"
      ]
     },
     "execution_count": 7,
     "metadata": {},
     "output_type": "execute_result"
    }
   ],
   "source": [
    "multiplier = X_explain - np.mean(X_explain, axis=0)\n",
    "multiplier /= np.maximum(np.max(np.abs(multiplier), axis=0), 0)\n",
    "mean_shap_values3d = np.mean(multiplier * shap_values, axis=1)\n",
    "mean_shap_values3d.shape"
   ]
  },
  {
   "cell_type": "markdown",
   "metadata": {},
   "source": [
    "## Plot found weights as well as Original weights of linear transform of the data generation process"
   ]
  },
  {
   "cell_type": "code",
   "execution_count": 8,
   "metadata": {
    "tags": []
   },
   "outputs": [
    {
     "data": {
      "image/png": "[encoded data removed]",
      "text/plain": [
       "<Figure size 640x480 with 1 Axes>"
      ]
     },
     "metadata": {},
     "output_type": "display_data"
    },
    {
     "data": {
      "image/png": "[encoded data removed]",
      "text/plain": [
       "<Figure size 640x480 with 1 Axes>"
      ]
     },
     "metadata": {},
     "output_type": "display_data"
    }
   ],
   "source": [
    "plt.imshow(mean_shap_values3d)\n",
    "plt.title('Weighted Shap Values of Model')\n",
    "plt.figure()\n",
    "plt.imshow(coefs)\n",
    "plt.title('Original Weights of Linear Transform')\n",
    "plt.show()"
   ]
  },
  {
   "cell_type": "code",
   "execution_count": null,
   "metadata": {},
   "outputs": [],
   "source": []
  }
 ],
 "metadata": {
  "kernelspec": {
   "display_name": "Py3.8 (conda)",
   "language": "python",
   "name": "py3.8"
  },
  "language_info": {
   "codemirror_mode": {
    "name": "ipython",
    "version": 3
   },
   "file_extension": ".py",
   "mimetype": "text/x-python",
   "name": "python",
   "nbconvert_exporter": "python",
   "pygments_lexer": "ipython3",
   "version": "3.8.15"
  }
 },
 "nbformat": 4,
 "nbformat_minor": 4
}
